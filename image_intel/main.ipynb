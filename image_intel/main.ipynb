{
 "cells": [
  {
   "cell_type": "code",
   "execution_count": 82,
   "metadata": {},
   "outputs": [],
   "source": [
    "import torch \n",
    "from torch import nn\n",
    "import numpy as np\n",
    "import pandas as pd\n",
    "import torchvision\n",
    "from torchvision import transforms, datasets\n",
    "from torch import optim\n",
    "import torch.nn.functional as F"
   ]
  },
  {
   "cell_type": "code",
   "execution_count": 83,
   "metadata": {},
   "outputs": [
    {
     "name": "stdout",
     "output_type": "stream",
     "text": [
      "The version of torch is : 2.0.1\n",
      "The version of torchvision is : 0.15.2\n"
     ]
    }
   ],
   "source": [
    "print(f'The version of torch is : {torch.__version__}\\nThe version of torchvision is : {torchvision.__version__}')"
   ]
  },
  {
   "cell_type": "code",
   "execution_count": 84,
   "metadata": {},
   "outputs": [
    {
     "data": {
      "text/plain": [
       "'\\n// 폴더 구조\\ndataset/\\n├── seg_pred/\\n│   ├── image1.jpg\\n│   ├── image2.jpg\\n│   └── ...\\n├── seg_train/\\n│   ├── class1/\\n│   │   ├── image1.jpg\\n│   │   ├── image2.jpg\\n│   │   └── ...\\n│   ├── class2/\\n│   │   ├── image1.jpg\\n│   │   ├── image2.jpg\\n│   │   └── ...\\n│   └── ...\\n└── seg_test/\\n    ├── class1/\\n    │   ├── image1.jpg\\n    │   ├── image2.jpg\\n    │   └── ...\\n    ├── class2/\\n    │   ├── image1.jpg\\n    │   ├── image2.jpg\\n    │   └── ...\\n    └── ...'"
      ]
     },
     "execution_count": 84,
     "metadata": {},
     "output_type": "execute_result"
    }
   ],
   "source": [
    "'''\n",
    "// 폴더 구조\n",
    "dataset/\n",
    "├── seg_pred/\n",
    "│   ├── image1.jpg\n",
    "│   ├── image2.jpg\n",
    "│   └── ...\n",
    "├── seg_train/\n",
    "│   ├── class1/\n",
    "│   │   ├── image1.jpg\n",
    "│   │   ├── image2.jpg\n",
    "│   │   └── ...\n",
    "│   ├── class2/\n",
    "│   │   ├── image1.jpg\n",
    "│   │   ├── image2.jpg\n",
    "│   │   └── ...\n",
    "│   └── ...\n",
    "└── seg_test/\n",
    "    ├── class1/\n",
    "    │   ├── image1.jpg\n",
    "    │   ├── image2.jpg\n",
    "    │   └── ...\n",
    "    ├── class2/\n",
    "    │   ├── image1.jpg\n",
    "    │   ├── image2.jpg\n",
    "    │   └── ...\n",
    "    └── ...'''"
   ]
  },
  {
   "cell_type": "markdown",
   "metadata": {},
   "source": [
    "데이터 전처리"
   ]
  },
  {
   "cell_type": "code",
   "execution_count": 85,
   "metadata": {},
   "outputs": [],
   "source": [
    "train_dir = 'dataset/seg_train/seg_train'\n",
    "test_dir = 'dataset/seg_test/seg_test'\n",
    "batch_size = 32\n",
    "transform = transforms.Compose(\n",
    "    [transforms.Resize(64),\n",
    "     transforms.CenterCrop(64),\n",
    "     transforms.ToTensor(),\n",
    "     transforms.Normalize((0.5, 0.5, 0.5), (0.5, 0.5, 0.5), inplace=True)])\n",
    "\n",
    "# ImageFolder 메소드를 사용하기 위해서는 훈련 폴더 안에 각각의 클래스가 하위 폴더 안에 저장돼있어야 한다.\n",
    "train_dataset = datasets.ImageFolder(train_dir, \n",
    "                               transform=transform)\n",
    "\n",
    "# 데이터셋을 미니 배치로 나누고 shuffle하는 역할\n",
    "train_dataloader = torch.utils.data.DataLoader(train_dataset,\n",
    "                                         batch_size=batch_size,\n",
    "                                         shuffle=True,\n",
    "                                         drop_last=True)\n",
    "\n",
    "# 테스트 셋에 대해서도 같은 코드 적용\n",
    "test_dataset = datasets.ImageFolder(test_dir, \n",
    "                               transform=transform)\n",
    "\n",
    "test_dataloader = torch.utils.data.DataLoader(test_dataset, \n",
    "                                              batch_size=batch_size,\n",
    "                                              shuffle=False,\n",
    "                                              drop_last=True)\n"
   ]
  },
  {
   "cell_type": "code",
   "execution_count": 86,
   "metadata": {},
   "outputs": [],
   "source": [
    "# dataloader를 반복 가능한 객체로 생성후 첫번째 배치(길이=32)의 사진과 라벨 저장\n",
    "images, labels = next(iter(train_dataloader))"
   ]
  },
  {
   "cell_type": "markdown",
   "metadata": {},
   "source": [
    "변환한 이미지 출력해보기"
   ]
  },
  {
   "cell_type": "code",
   "execution_count": 87,
   "metadata": {},
   "outputs": [
    {
     "name": "stdout",
     "output_type": "stream",
     "text": [
      "torch.Size([64, 64])\n"
     ]
    },
    {
     "data": {
      "image/png": "[encoded data removed]",
      "text/plain": [
       "<Figure size 432x288 with 1 Axes>"
      ]
     },
     "metadata": {
      "needs_background": "light"
     },
     "output_type": "display_data"
    }
   ],
   "source": [
    "import matplotlib.pyplot as plt\n",
    "tf = transforms.ToPILImage()\n",
    "img = images[0][0]\n",
    "plt.imshow(img)\n",
    "print(img.shape)"
   ]
  },
  {
   "cell_type": "code",
   "execution_count": 91,
   "metadata": {},
   "outputs": [],
   "source": [
    "class CNN(nn.Module):\n",
    "    def __init__(self):\n",
    "        # 이 클래스는 nn.Module을 상속한다.\n",
    "        super(CNN, self).__init__()\n",
    "        # convolution layer: 처음 채널은 RGB이므로 3이며 out_channels을 점점 증가시켜가며 저수준에서 고수준으로의 학습을 한다.\n",
    "        # padding을 통해 이미지의 사이즈를 보존할 수 있다.\n",
    "        self.conv1 = nn.Conv2d(in_channels=3, out_channels=64, kernel_size=3, padding=1, stride=1)    # 64, 64, 64\n",
    "        self.conv2 = nn.Conv2d(in_channels=64, out_channels=128, kernel_size=3, padding=1, stride=1)  # 128, 64, 64\n",
    "        self.conv3 = nn.Conv2d(in_channels=128, out_channels=256, kernel_size=3, padding=1, stride=1) # 256, 64, 64\n",
    "        self.conv4 = nn.Conv2d(in_channels=256, out_channels=512, kernel_size=3, padding=1, stride=1) # 512, 64, 64\n",
    "\n",
    "        # pooling: 2*2 커널 사이즈를 통해 사진의 복잡도 줄임\n",
    "        self.pool = nn.MaxPool2d(kernel_size=2) # 512, 32, 32\n",
    "        \n",
    "        # 4번의 pooling을 거치기 때문에 64/2**4 = 4*4의 이미지 형성(forward 함수 참고)\n",
    "        self.fc1 = nn.Linear(in_features=512 * 4 * 4, out_features=128)\n",
    "        # 클래스 개수인 6을 out_features로 결정\n",
    "        self.fc2 = nn.Linear(in_features=128, out_features=6)\n",
    "    \n",
    "        self.dropout = nn.Dropout(0.25)\n",
    "\n",
    "    # 순전파 과정 함수\n",
    "    def forward(self, x):\n",
    "        x = self.pool(F.relu(self.conv1(x)))\n",
    "        x = self.pool(F.relu(self.conv2(x)))\n",
    "        x = self.pool(F.relu(self.conv3(x)))\n",
    "        x = self.pool(F.relu(self.conv4(x)))\n",
    "        \n",
    "        # 평탄화 작업을 통해 벡터를 일렬로 펼침\n",
    "        x = x.view(x.size(0), -1)\n",
    "\n",
    "        x = F.relu(self.fc1(x))\n",
    "        x = self.dropout(x)\n",
    "        x = self.fc2(x)\n",
    "        return x"
   ]
  },
  {
   "cell_type": "markdown",
   "metadata": {},
   "source": [
    "training"
   ]
  },
  {
   "cell_type": "code",
   "execution_count": 92,
   "metadata": {},
   "outputs": [],
   "source": [
    "from tqdm import tqdm\n",
    "\n",
    "device = torch.device('mps')\n",
    "def fit(epochs, model, criterion, optimizer, device=device, dataloader=train_dataloader):\n",
    "    \n",
    "    for e in tqdm(range(epochs)):\n",
    "        running_loss = 0\n",
    "        for images, labels in dataloader:\n",
    "\n",
    "            # 그래디언트 초기화\n",
    "            optimizer.zero_grad()\n",
    "            output = model(images)\n",
    "            # 손실 계산\n",
    "            loss = criterion(output, labels)\n",
    "            # 역전파 과정\n",
    "            loss.backward()\n",
    "            # 가중치 업데이트\n",
    "            optimizer.step()\n",
    "            \n",
    "            running_loss += loss.data\n",
    "        else:\n",
    "            print(f\" Epoch {e}, Training loss: {running_loss/len(dataloader)}\")  "
   ]
  },
  {
   "cell_type": "code",
   "execution_count": 95,
   "metadata": {},
   "outputs": [
    {
     "name": "stderr",
     "output_type": "stream",
     "text": [
      " 10%|█         | 1/10 [03:53<35:01, 233.45s/it]"
     ]
    },
    {
     "name": "stdout",
     "output_type": "stream",
     "text": [
      " Epoch 0, Training loss: 1.2914899587631226\n"
     ]
    },
    {
     "name": "stderr",
     "output_type": "stream",
     "text": [
      " 20%|██        | 2/10 [07:29<29:46, 223.36s/it]"
     ]
    },
    {
     "name": "stdout",
     "output_type": "stream",
     "text": [
      " Epoch 1, Training loss: 0.9506558179855347\n"
     ]
    },
    {
     "name": "stderr",
     "output_type": "stream",
     "text": [
      " 30%|███       | 3/10 [11:25<26:43, 229.10s/it]"
     ]
    },
    {
     "name": "stdout",
     "output_type": "stream",
     "text": [
      " Epoch 2, Training loss: 0.797662615776062\n"
     ]
    },
    {
     "name": "stderr",
     "output_type": "stream",
     "text": [
      " 40%|████      | 4/10 [15:04<22:30, 225.06s/it]"
     ]
    },
    {
     "name": "stdout",
     "output_type": "stream",
     "text": [
      " Epoch 3, Training loss: 0.6789867877960205\n"
     ]
    },
    {
     "name": "stderr",
     "output_type": "stream",
     "text": [
      " 50%|█████     | 5/10 [18:39<18:27, 221.55s/it]"
     ]
    },
    {
     "name": "stdout",
     "output_type": "stream",
     "text": [
      " Epoch 4, Training loss: 0.5957074165344238\n"
     ]
    },
    {
     "name": "stderr",
     "output_type": "stream",
     "text": [
      " 60%|██████    | 6/10 [22:11<14:33, 218.30s/it]"
     ]
    },
    {
     "name": "stdout",
     "output_type": "stream",
     "text": [
      " Epoch 5, Training loss: 0.5232073068618774\n"
     ]
    },
    {
     "name": "stderr",
     "output_type": "stream",
     "text": [
      " 70%|███████   | 7/10 [25:46<10:51, 217.21s/it]"
     ]
    },
    {
     "name": "stdout",
     "output_type": "stream",
     "text": [
      " Epoch 6, Training loss: 0.4641572833061218\n"
     ]
    },
    {
     "name": "stderr",
     "output_type": "stream",
     "text": [
      " 80%|████████  | 8/10 [29:34<07:20, 220.40s/it]"
     ]
    },
    {
     "name": "stdout",
     "output_type": "stream",
     "text": [
      " Epoch 7, Training loss: 0.40475785732269287\n"
     ]
    },
    {
     "name": "stderr",
     "output_type": "stream",
     "text": [
      " 90%|█████████ | 9/10 [33:45<03:50, 230.23s/it]"
     ]
    },
    {
     "name": "stdout",
     "output_type": "stream",
     "text": [
      " Epoch 8, Training loss: 0.3477785587310791\n"
     ]
    },
    {
     "name": "stderr",
     "output_type": "stream",
     "text": [
      "100%|██████████| 10/10 [38:17<00:00, 229.79s/it]"
     ]
    },
    {
     "name": "stdout",
     "output_type": "stream",
     "text": [
      " Epoch 9, Training loss: 0.2921448051929474\n"
     ]
    },
    {
     "name": "stderr",
     "output_type": "stream",
     "text": [
      "\n"
     ]
    }
   ],
   "source": [
    "epochs = 10\n",
    "model = CNN()\n",
    "criterion = nn.CrossEntropyLoss()\n",
    "optimizer = optim.SGD(model.parameters(), lr=0.1)\n",
    "\n",
    "fit(epochs, model, criterion, optimizer)"
   ]
  },
  {
   "cell_type": "code",
   "execution_count": null,
   "metadata": {},
   "outputs": [],
   "source": []
  }
 ],
 "metadata": {
  "interpreter": {
   "hash": "aee8b7b246df8f9039afb4144a1f6fd8d2ca17a180786b69acc140d282b71a49"
  },
  "kernelspec": {
   "display_name": "Python 3.10.5 64-bit",
   "language": "python",
   "name": "python3"
  },
  "language_info": {
   "codemirror_mode": {
    "name": "ipython",
    "version": 3
   },
   "file_extension": ".py",
   "mimetype": "text/x-python",
   "name": "python",
   "nbconvert_exporter": "python",
   "pygments_lexer": "ipython3",
   "version": "3.10.5"
  },
  "orig_nbformat": 4
 },
 "nbformat": 4,
 "nbformat_minor": 2
}
